{
  "nbformat": 4,
  "nbformat_minor": 0,
  "metadata": {
    "colab": {
      "name": "Aula_02_Codelab_Exercicios.ipynb",
      "provenance": [],
      "collapsed_sections": [],
      "include_colab_link": true
    },
    "kernelspec": {
      "name": "python3",
      "display_name": "Python 3"
    },
    "language_info": {
      "name": "python"
    }
  },
  "cells": [
    {
      "cell_type": "markdown",
      "metadata": {
        "id": "view-in-github",
        "colab_type": "text"
      },
      "source": [
        "<a href=\"https://colab.research.google.com/github/OldOne05/Blue-1/blob/main/Aula_02_Codelab_Exercicios.ipynb\" target=\"_parent\"><img src=\"https://colab.research.google.com/assets/colab-badge.svg\" alt=\"Open In Colab\"/></a>"
      ]
    },
    {
      "cell_type": "markdown",
      "metadata": {
        "id": "w1T7s2q0p-pt"
      },
      "source": [
        "# Mini projetos"
      ]
    },
    {
      "cell_type": "markdown",
      "metadata": {
        "id": "meUw7PTwqC-Y"
      },
      "source": [
        "## #01 - Conversor de moedas\n",
        "\n",
        "Crie um programa que solicite um um valor em real ao usuário e converta esse valor, para:\n",
        "\n",
        "- DOLAR,\n",
        "- EURO,\n",
        "- LIBRA ESTERLINA,\n",
        "- DÓLAR CANADENSE,\n",
        "- PESO ARGENTINO,\n",
        "- PESO CHILENO.\n",
        "\n",
        "Para esse exercício você precisará realizar uma pesquisa para saber a cotação de cada moeda em real. Mostrar o resultado no formato $ XXXX.XX"
      ]
    },
    {
      "cell_type": "code",
      "metadata": {
        "colab": {
          "base_uri": "https://localhost:8080/"
        },
        "id": "upyw4YfpRcQg",
        "outputId": "1cf2a57e-3009-4616-9a2b-399ba34a03ce"
      },
      "source": [
        "nmrreal=float(input('Digite o valor em real desejado:'))\n",
        "vlr_dol=5.04\n",
        "vlr_euro=6.13\n",
        "vlr_libra=7.13\n",
        "vlr_cnd=4.16\n",
        "vlr_arg=0.053\n",
        "vlr_chl=0.0070\n",
        "dolar=print('Total de', nmrreal / vlr_dol, 'dólares')\n",
        "euro=print('Total de', nmrreal / vlr_euro, 'euros' )\n",
        "libra=print('Total de', nmrreal / vlr_libra, 'libras')\n",
        "cnd=print('Total de', nmrreal / vlr_cnd, 'dólares canadenses')\n",
        "arg=print('Total de', nmrreal / vlr_arg, 'pesos argentinos')\n",
        "chl=print('Total de', nmrreal / vlr_chl, 'pesos chilenos')"
      ],
      "execution_count": null,
      "outputs": [
        {
          "output_type": "stream",
          "text": [
            "Digite o valor em real desejado:38\n",
            "Total de 7.5396825396825395 dólares\n",
            "Total de 6.199021207177815 euros\n",
            "Total de 5.3295932678821885 libras\n",
            "Total de 9.134615384615385 dólares canadenses\n",
            "Total de 716.9811320754717 pesos argentinos\n",
            "Total de 5428.571428571428 pesos chilenos\n"
          ],
          "name": "stdout"
        }
      ]
    },
    {
      "cell_type": "markdown",
      "metadata": {
        "id": "KK9PIcJ4qIF9"
      },
      "source": [
        "## #02 - Calculadora de aumento de aluguel\n",
        "\n",
        "Vamos construir um programa que irá calcular o aumento anual do seu aluguel.\n",
        "\n",
        "A sua calculadora vai receber o `valor do aluguel` e calcular o aumento baseado no `IGPM de 31%`. A calculadora deve apresentar o aluguel reajustado no formato `R$ XXXX.XX`."
      ]
    },
    {
      "cell_type": "code",
      "metadata": {
        "colab": {
          "base_uri": "https://localhost:8080/"
        },
        "id": "-chPtgM4ZPbc",
        "outputId": "5143bf40-deaf-4565-a045-57129b8b5b82"
      },
      "source": [
        "valoraluguel=float(input('Digite o valor do seu aluguel:'))\n",
        "aumento= valoraluguel * 31/100\n",
        "print('O aumento vai ser de', aumento)\n",
        "print('Seu aluguel após o reajuste é R$', valoraluguel + aumento)"
      ],
      "execution_count": null,
      "outputs": [
        {
          "output_type": "stream",
          "text": [
            "Digite o valor do seu aluguel:1000\n",
            "O aumento vai ser de 310.0\n",
            "Seu aluguel após o reajuste é R$ 1310.0\n"
          ],
          "name": "stdout"
        }
      ]
    }
  ]
}